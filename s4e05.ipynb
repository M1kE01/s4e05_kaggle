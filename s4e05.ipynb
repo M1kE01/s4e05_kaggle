{
  "nbformat": 4,
  "nbformat_minor": 0,
  "metadata": {
    "colab": {
      "provenance": []
    },
    "kernelspec": {
      "name": "python3",
      "display_name": "Python 3"
    },
    "language_info": {
      "name": "python"
    }
  },
  "cells": [
    {
      "cell_type": "code",
      "execution_count": null,
      "metadata": {
        "id": "zdtQscWyHTdE"
      },
      "outputs": [],
      "source": [
        "import pandas as pd\n",
        "import numpy as np\n",
        "import seaborn as sns\n",
        "import matplotlib.pyplot as plt\n",
        "from sklearn.model_selection import train_test_split\n",
        "from pandas.plotting import bootstrap_plot\n",
        "import plotly.express as px\n",
        "\n",
        "import warnings\n",
        "warnings.simplefilter(action='ignore', category=FutureWarning)\n",
        "warnings.simplefilter(\"ignore\")\n",
        "\n",
        "import catboost\n",
        "import xgboost\n",
        "from catboost import CatBoostRegressor\n",
        "from sklearn.model_selection import KFold\n",
        "from sklearn.metrics import r2_score,make_scorer\n",
        "from xgboost import XGBRegressor"
      ]
    },
    {
      "cell_type": "code",
      "source": [
        "train_data = pd.read_csv('/kaggle/input/playground-series-s4e5/train.csv')\n",
        "test_data = pd.read_csv('/kaggle/input/playground-series-s4e5/test.csv')\n",
        "submission_data = pd.read_csv('/kaggle/input/playground-series-s4e5/sample_submission.csv')"
      ],
      "metadata": {
        "id": "pYEX40QNIa2U"
      },
      "execution_count": null,
      "outputs": []
    },
    {
      "cell_type": "code",
      "source": [
        "print(train_data.shape)\n",
        "print(test_data.shape)\n",
        "print(submission_data.shape)\n",
        "\n",
        "data = train_data.drop('id',axis=1)"
      ],
      "metadata": {
        "id": "2SRHCZEGC6vZ"
      },
      "execution_count": null,
      "outputs": []
    },
    {
      "cell_type": "code",
      "source": [
        "data.describe().T"
      ],
      "metadata": {
        "id": "3fJCuM85C9Ad"
      },
      "execution_count": null,
      "outputs": []
    },
    {
      "cell_type": "code",
      "source": [
        "sns.kdeplot(data['FloodProbability'], fill=True,gridsize=100)\n",
        "plt.title('FloodProbability')\n",
        "plt.grid()\n",
        "plt.show()"
      ],
      "metadata": {
        "id": "mUh-ncTiVh0I"
      },
      "execution_count": null,
      "outputs": []
    },
    {
      "cell_type": "code",
      "source": [
        "features = data.keys()"
      ],
      "metadata": {
        "id": "Zxg3bLAEVkwF"
      },
      "execution_count": null,
      "outputs": []
    },
    {
      "cell_type": "code",
      "source": [
        "fig, axes = plt.subplots(nrows=7, ncols=3, figsize=(15, 25))\n",
        "axes = axes.flatten()\n",
        "\n",
        "for i, feature in enumerate(features):\n",
        "    sns.violinplot(y=data[feature], ax=axes[i])\n",
        "    axes[i].set_title(feature)\n",
        "    axes[i].set_xlabel('')\n",
        "plt.tight_layout()\n",
        "plt.show()"
      ],
      "metadata": {
        "id": "oDsL_TBGVlvY"
      },
      "execution_count": null,
      "outputs": []
    },
    {
      "cell_type": "code",
      "source": [
        "fig, axes = plt.subplots(nrows=7, ncols=3, figsize=(15, 25))\n",
        "axes = axes.flatten()\n",
        "\n",
        "for i, feature in enumerate(features):\n",
        "    sns.boxplot(y=data[feature], ax=axes[i])\n",
        "    ax=axes[i].set_title(feature)\n",
        "    ax=axes[i].set_xlabel('')\n",
        "plt.tight_layout()\n",
        "plt.show()"
      ],
      "metadata": {
        "id": "0RLUYzpNVnId"
      },
      "execution_count": null,
      "outputs": []
    },
    {
      "cell_type": "code",
      "source": [
        "sns.barplot(x='MonsoonIntensity', y='FloodProbability', data=data)"
      ],
      "metadata": {
        "id": "-3K5ItxYVnKg"
      },
      "execution_count": null,
      "outputs": []
    },
    {
      "cell_type": "code",
      "source": [
        "plt.figure(figsize=(25, 25))\n",
        "sns.heatmap(data.corr(), annot=True, cmap='coolwarm')\n",
        "plt.title('Correlation Matrix')\n",
        "plt.show()"
      ],
      "metadata": {
        "id": "3L7tvHuB5yw4"
      },
      "execution_count": null,
      "outputs": []
    },
    {
      "cell_type": "code",
      "source": [
        "Data ,_ = train_test_split(data,test_size=0.8,random_state=42)"
      ],
      "metadata": {
        "id": "Sle7DOAP5z8e"
      },
      "execution_count": null,
      "outputs": []
    },
    {
      "cell_type": "code",
      "source": [
        "fig = px.scatter_3d(Data,x='RiverManagement',y='WetlandLoss',z='AgriculturalPractices',color='FloodProbability')\n",
        "fig.show()"
      ],
      "metadata": {
        "id": "GibEMIzK51YI"
      },
      "execution_count": null,
      "outputs": []
    },
    {
      "cell_type": "code",
      "source": [
        "num_cols = len(data.columns)\n",
        "num_rows = int(np.ceil(num_cols / 3))  #ensure that there are enough rows to accommodate all columns\n",
        "\n",
        "fig, axs = plt.subplots(num_rows, 3, figsize=(20, num_rows * 5))\n",
        "for i, col in enumerate(data.columns):\n",
        "    ax = axs[i // 3, i % 3]\n",
        "    ax.hist(data[col], bins=10)\n",
        "    ax.set_title(f'Histogram of {col}')\n",
        "    ax.set_xlabel('Value')\n",
        "    ax.set_ylabel('Frequency')\n",
        "\n",
        "plt.tight_layout()\n",
        "plt.show()"
      ],
      "metadata": {
        "id": "WJIuGoD854B6"
      },
      "execution_count": null,
      "outputs": []
    },
    {
      "cell_type": "code",
      "source": [
        "plt.figure(figsize=(10, 6))\n",
        "sns.histplot(data['FloodProbability'], kde=True)\n",
        "plt.title('Distribution of Flood Probability')\n",
        "plt.xlabel('Flood Probability')\n",
        "plt.ylabel('Frequency')\n",
        "plt.grid(True, linestyle=':', alpha=0.7)\n",
        "plt.show()"
      ],
      "metadata": {
        "id": "G4pHcugK54zQ"
      },
      "execution_count": null,
      "outputs": []
    },
    {
      "cell_type": "code",
      "source": [
        "plt.figure(figsize=(25, 10))\n",
        "sns.boxplot(data=data[features])\n",
        "plt.xticks(rotation=90)\n",
        "plt.title('Features Boxplot',fontsize = 20)\n",
        "plt.ylabel('Frequencies',fontsize = 20)\n",
        "plt.show()"
      ],
      "metadata": {
        "id": "KHSPIn3KeOfy"
      },
      "execution_count": null,
      "outputs": []
    },
    {
      "cell_type": "code",
      "source": [
        "subset_features = ['MonsoonIntensity', 'TopographyDrainage', 'RiverManagement',\n",
        "                   'Deforestation', 'Urbanization', 'ClimateChange', 'DamsQuality']\n",
        "\n",
        "sns.pairplot(Data[subset_features])\n",
        "plt.title('Pairplot of Selected Features')\n",
        "plt.show()"
      ],
      "metadata": {
        "id": "Au00ObFZeQ_Y"
      },
      "execution_count": null,
      "outputs": []
    },
    {
      "cell_type": "code",
      "source": [
        "Data[subset_features].plot(subplots = True)\n",
        "plt.subplots_adjust(hspace=0.5)\n",
        "plt.show()"
      ],
      "metadata": {
        "id": "VidPlhGbeU36"
      },
      "execution_count": null,
      "outputs": []
    },
    {
      "cell_type": "code",
      "source": [
        "def plot_two_plots(data):\n",
        "\n",
        "    num_features = len(data.columns)\n",
        "    num_cols = 2\n",
        "    num_rows = (num_features + 1) // num_cols\n",
        "\n",
        "    print(\"Number of features:\", num_features)\n",
        "\n",
        "    fig, axs = plt.subplots(num_rows, num_cols, figsize=(15, num_rows*5))\n",
        "    axs = axs.flatten()\n",
        "\n",
        "    for i, feature in enumerate(data.columns):\n",
        "        try:\n",
        "            sns.violinplot(y=data[feature], ax=axs[i*2])\n",
        "            axs[i*2].set_title('Violinplot of ' + feature)\n",
        "            sns.histplot(data=data, x=feature, kde=True, ax=axs[i*2+1])\n",
        "            axs[i*2+1].set_title('Histogram of ' + feature)\n",
        "        except IndexError:\n",
        "            pass\n",
        "\n",
        "    plt.tight_layout()\n",
        "    plt.show()"
      ],
      "metadata": {
        "id": "-3Fdbnp3eY4_"
      },
      "execution_count": null,
      "outputs": []
    }
  ]
}